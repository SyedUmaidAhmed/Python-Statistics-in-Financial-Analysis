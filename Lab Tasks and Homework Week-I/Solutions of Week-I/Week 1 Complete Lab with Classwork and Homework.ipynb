{
 "cells": [
  {
   "cell_type": "code",
   "execution_count": 2,
   "metadata": {},
   "outputs": [],
   "source": [
    "#import the package \"Pandas\" into Jupyter Notebook\n",
    "import pandas as pd"
   ]
  },
  {
   "cell_type": "code",
   "execution_count": 3,
   "metadata": {},
   "outputs": [],
   "source": [
    "fb = pd.read_csv('facebook.csv',index_col = 0)"
   ]
  },
  {
   "cell_type": "code",
   "execution_count": 4,
   "metadata": {},
   "outputs": [
    {
     "data": {
      "text/html": [
       "<div>\n",
       "<style scoped>\n",
       "    .dataframe tbody tr th:only-of-type {\n",
       "        vertical-align: middle;\n",
       "    }\n",
       "\n",
       "    .dataframe tbody tr th {\n",
       "        vertical-align: top;\n",
       "    }\n",
       "\n",
       "    .dataframe thead th {\n",
       "        text-align: right;\n",
       "    }\n",
       "</style>\n",
       "<table border=\"1\" class=\"dataframe\">\n",
       "  <thead>\n",
       "    <tr style=\"text-align: right;\">\n",
       "      <th></th>\n",
       "      <th>Open</th>\n",
       "      <th>High</th>\n",
       "      <th>Low</th>\n",
       "      <th>Close</th>\n",
       "      <th>Adj Close</th>\n",
       "      <th>Volume</th>\n",
       "    </tr>\n",
       "    <tr>\n",
       "      <th>Date</th>\n",
       "      <th></th>\n",
       "      <th></th>\n",
       "      <th></th>\n",
       "      <th></th>\n",
       "      <th></th>\n",
       "      <th></th>\n",
       "    </tr>\n",
       "  </thead>\n",
       "  <tbody>\n",
       "    <tr>\n",
       "      <th>2014-12-31</th>\n",
       "      <td>20.400000</td>\n",
       "      <td>20.510000</td>\n",
       "      <td>19.990000</td>\n",
       "      <td>20.049999</td>\n",
       "      <td>19.459270</td>\n",
       "      <td>4157500</td>\n",
       "    </tr>\n",
       "    <tr>\n",
       "      <th>2015-01-02</th>\n",
       "      <td>20.129999</td>\n",
       "      <td>20.280001</td>\n",
       "      <td>19.809999</td>\n",
       "      <td>20.129999</td>\n",
       "      <td>19.536913</td>\n",
       "      <td>2842000</td>\n",
       "    </tr>\n",
       "    <tr>\n",
       "      <th>2015-01-05</th>\n",
       "      <td>20.129999</td>\n",
       "      <td>20.190001</td>\n",
       "      <td>19.700001</td>\n",
       "      <td>19.790001</td>\n",
       "      <td>19.206934</td>\n",
       "      <td>4948800</td>\n",
       "    </tr>\n",
       "    <tr>\n",
       "      <th>2015-01-06</th>\n",
       "      <td>19.820000</td>\n",
       "      <td>19.840000</td>\n",
       "      <td>19.170000</td>\n",
       "      <td>19.190001</td>\n",
       "      <td>18.624611</td>\n",
       "      <td>4944100</td>\n",
       "    </tr>\n",
       "    <tr>\n",
       "      <th>2015-01-07</th>\n",
       "      <td>19.330000</td>\n",
       "      <td>19.500000</td>\n",
       "      <td>19.080000</td>\n",
       "      <td>19.139999</td>\n",
       "      <td>18.576082</td>\n",
       "      <td>8045200</td>\n",
       "    </tr>\n",
       "  </tbody>\n",
       "</table>\n",
       "</div>"
      ],
      "text/plain": [
       "                 Open       High        Low      Close  Adj Close   Volume\n",
       "Date                                                                      \n",
       "2014-12-31  20.400000  20.510000  19.990000  20.049999  19.459270  4157500\n",
       "2015-01-02  20.129999  20.280001  19.809999  20.129999  19.536913  2842000\n",
       "2015-01-05  20.129999  20.190001  19.700001  19.790001  19.206934  4948800\n",
       "2015-01-06  19.820000  19.840000  19.170000  19.190001  18.624611  4944100\n",
       "2015-01-07  19.330000  19.500000  19.080000  19.139999  18.576082  8045200"
      ]
     },
     "execution_count": 4,
     "metadata": {},
     "output_type": "execute_result"
    }
   ],
   "source": [
    "fb.head()"
   ]
  },
  {
   "cell_type": "code",
   "execution_count": 5,
   "metadata": {},
   "outputs": [
    {
     "data": {
      "text/html": [
       "<div>\n",
       "<style scoped>\n",
       "    .dataframe tbody tr th:only-of-type {\n",
       "        vertical-align: middle;\n",
       "    }\n",
       "\n",
       "    .dataframe tbody tr th {\n",
       "        vertical-align: top;\n",
       "    }\n",
       "\n",
       "    .dataframe thead th {\n",
       "        text-align: right;\n",
       "    }\n",
       "</style>\n",
       "<table border=\"1\" class=\"dataframe\">\n",
       "  <thead>\n",
       "    <tr style=\"text-align: right;\">\n",
       "      <th></th>\n",
       "      <th>Open</th>\n",
       "      <th>High</th>\n",
       "      <th>Low</th>\n",
       "      <th>Close</th>\n",
       "      <th>Adj Close</th>\n",
       "      <th>Volume</th>\n",
       "    </tr>\n",
       "    <tr>\n",
       "      <th>Date</th>\n",
       "      <th></th>\n",
       "      <th></th>\n",
       "      <th></th>\n",
       "      <th></th>\n",
       "      <th></th>\n",
       "      <th></th>\n",
       "    </tr>\n",
       "  </thead>\n",
       "  <tbody>\n",
       "    <tr>\n",
       "      <th>2018-01-30</th>\n",
       "      <td>241.110001</td>\n",
       "      <td>246.419998</td>\n",
       "      <td>238.410004</td>\n",
       "      <td>242.720001</td>\n",
       "      <td>242.720001</td>\n",
       "      <td>14270800</td>\n",
       "    </tr>\n",
       "    <tr>\n",
       "      <th>2018-01-31</th>\n",
       "      <td>245.770004</td>\n",
       "      <td>249.270004</td>\n",
       "      <td>244.449997</td>\n",
       "      <td>245.800003</td>\n",
       "      <td>245.800003</td>\n",
       "      <td>11964400</td>\n",
       "    </tr>\n",
       "    <tr>\n",
       "      <th>2018-02-01</th>\n",
       "      <td>238.520004</td>\n",
       "      <td>246.899994</td>\n",
       "      <td>238.059998</td>\n",
       "      <td>240.500000</td>\n",
       "      <td>240.500000</td>\n",
       "      <td>12980600</td>\n",
       "    </tr>\n",
       "    <tr>\n",
       "      <th>2018-02-02</th>\n",
       "      <td>237.000000</td>\n",
       "      <td>237.970001</td>\n",
       "      <td>231.169998</td>\n",
       "      <td>233.520004</td>\n",
       "      <td>233.520004</td>\n",
       "      <td>17961600</td>\n",
       "    </tr>\n",
       "    <tr>\n",
       "      <th>2018-02-05</th>\n",
       "      <td>227.000000</td>\n",
       "      <td>233.229996</td>\n",
       "      <td>205.000000</td>\n",
       "      <td>213.699997</td>\n",
       "      <td>213.699997</td>\n",
       "      <td>28869000</td>\n",
       "    </tr>\n",
       "  </tbody>\n",
       "</table>\n",
       "</div>"
      ],
      "text/plain": [
       "                  Open        High         Low       Close   Adj Close  \\\n",
       "Date                                                                     \n",
       "2018-01-30  241.110001  246.419998  238.410004  242.720001  242.720001   \n",
       "2018-01-31  245.770004  249.270004  244.449997  245.800003  245.800003   \n",
       "2018-02-01  238.520004  246.899994  238.059998  240.500000  240.500000   \n",
       "2018-02-02  237.000000  237.970001  231.169998  233.520004  233.520004   \n",
       "2018-02-05  227.000000  233.229996  205.000000  213.699997  213.699997   \n",
       "\n",
       "              Volume  \n",
       "Date                  \n",
       "2018-01-30  14270800  \n",
       "2018-01-31  11964400  \n",
       "2018-02-01  12980600  \n",
       "2018-02-02  17961600  \n",
       "2018-02-05  28869000  "
      ]
     },
     "execution_count": 5,
     "metadata": {},
     "output_type": "execute_result"
    }
   ],
   "source": [
    "fb.tail()"
   ]
  },
  {
   "cell_type": "code",
   "execution_count": 6,
   "metadata": {},
   "outputs": [
    {
     "data": {
      "text/html": [
       "<div>\n",
       "<style scoped>\n",
       "    .dataframe tbody tr th:only-of-type {\n",
       "        vertical-align: middle;\n",
       "    }\n",
       "\n",
       "    .dataframe tbody tr th {\n",
       "        vertical-align: top;\n",
       "    }\n",
       "\n",
       "    .dataframe thead th {\n",
       "        text-align: right;\n",
       "    }\n",
       "</style>\n",
       "<table border=\"1\" class=\"dataframe\">\n",
       "  <thead>\n",
       "    <tr style=\"text-align: right;\">\n",
       "      <th></th>\n",
       "      <th>Open</th>\n",
       "      <th>High</th>\n",
       "      <th>Low</th>\n",
       "      <th>Close</th>\n",
       "      <th>Adj Close</th>\n",
       "      <th>Volume</th>\n",
       "    </tr>\n",
       "  </thead>\n",
       "  <tbody>\n",
       "    <tr>\n",
       "      <th>count</th>\n",
       "      <td>780.000000</td>\n",
       "      <td>780.000000</td>\n",
       "      <td>780.000000</td>\n",
       "      <td>780.000000</td>\n",
       "      <td>780.000000</td>\n",
       "      <td>7.800000e+02</td>\n",
       "    </tr>\n",
       "    <tr>\n",
       "      <th>mean</th>\n",
       "      <td>80.212705</td>\n",
       "      <td>81.285654</td>\n",
       "      <td>79.022397</td>\n",
       "      <td>80.264897</td>\n",
       "      <td>79.914215</td>\n",
       "      <td>1.204453e+07</td>\n",
       "    </tr>\n",
       "    <tr>\n",
       "      <th>std</th>\n",
       "      <td>64.226121</td>\n",
       "      <td>65.048907</td>\n",
       "      <td>63.190963</td>\n",
       "      <td>64.198375</td>\n",
       "      <td>64.327846</td>\n",
       "      <td>8.221848e+06</td>\n",
       "    </tr>\n",
       "    <tr>\n",
       "      <th>min</th>\n",
       "      <td>19.250000</td>\n",
       "      <td>19.500000</td>\n",
       "      <td>18.940001</td>\n",
       "      <td>19.139999</td>\n",
       "      <td>18.576082</td>\n",
       "      <td>1.311200e+06</td>\n",
       "    </tr>\n",
       "    <tr>\n",
       "      <th>25%</th>\n",
       "      <td>25.525000</td>\n",
       "      <td>26.085000</td>\n",
       "      <td>24.845000</td>\n",
       "      <td>25.475000</td>\n",
       "      <td>25.134513</td>\n",
       "      <td>7.215200e+06</td>\n",
       "    </tr>\n",
       "    <tr>\n",
       "      <th>50%</th>\n",
       "      <td>53.379999</td>\n",
       "      <td>54.034999</td>\n",
       "      <td>52.930000</td>\n",
       "      <td>53.420000</td>\n",
       "      <td>53.035403</td>\n",
       "      <td>9.728700e+06</td>\n",
       "    </tr>\n",
       "    <tr>\n",
       "      <th>75%</th>\n",
       "      <td>113.322502</td>\n",
       "      <td>115.779999</td>\n",
       "      <td>110.297499</td>\n",
       "      <td>113.702501</td>\n",
       "      <td>113.261238</td>\n",
       "      <td>1.408885e+07</td>\n",
       "    </tr>\n",
       "    <tr>\n",
       "      <th>max</th>\n",
       "      <td>245.770004</td>\n",
       "      <td>249.270004</td>\n",
       "      <td>244.449997</td>\n",
       "      <td>246.850006</td>\n",
       "      <td>246.850006</td>\n",
       "      <td>9.232320e+07</td>\n",
       "    </tr>\n",
       "  </tbody>\n",
       "</table>\n",
       "</div>"
      ],
      "text/plain": [
       "             Open        High         Low       Close   Adj Close  \\\n",
       "count  780.000000  780.000000  780.000000  780.000000  780.000000   \n",
       "mean    80.212705   81.285654   79.022397   80.264897   79.914215   \n",
       "std     64.226121   65.048907   63.190963   64.198375   64.327846   \n",
       "min     19.250000   19.500000   18.940001   19.139999   18.576082   \n",
       "25%     25.525000   26.085000   24.845000   25.475000   25.134513   \n",
       "50%     53.379999   54.034999   52.930000   53.420000   53.035403   \n",
       "75%    113.322502  115.779999  110.297499  113.702501  113.261238   \n",
       "max    245.770004  249.270004  244.449997  246.850006  246.850006   \n",
       "\n",
       "             Volume  \n",
       "count  7.800000e+02  \n",
       "mean   1.204453e+07  \n",
       "std    8.221848e+06  \n",
       "min    1.311200e+06  \n",
       "25%    7.215200e+06  \n",
       "50%    9.728700e+06  \n",
       "75%    1.408885e+07  \n",
       "max    9.232320e+07  "
      ]
     },
     "execution_count": 6,
     "metadata": {},
     "output_type": "execute_result"
    }
   ],
   "source": [
    "fb.describe()"
   ]
  },
  {
   "cell_type": "code",
   "execution_count": 7,
   "metadata": {},
   "outputs": [
    {
     "data": {
      "text/plain": [
       "(780, 6)"
      ]
     },
     "execution_count": 7,
     "metadata": {},
     "output_type": "execute_result"
    }
   ],
   "source": [
    "fb.shape"
   ]
  },
  {
   "cell_type": "code",
   "execution_count": 8,
   "metadata": {},
   "outputs": [
    {
     "data": {
      "text/html": [
       "<div>\n",
       "<style scoped>\n",
       "    .dataframe tbody tr th:only-of-type {\n",
       "        vertical-align: middle;\n",
       "    }\n",
       "\n",
       "    .dataframe tbody tr th {\n",
       "        vertical-align: top;\n",
       "    }\n",
       "\n",
       "    .dataframe thead th {\n",
       "        text-align: right;\n",
       "    }\n",
       "</style>\n",
       "<table border=\"1\" class=\"dataframe\">\n",
       "  <thead>\n",
       "    <tr style=\"text-align: right;\">\n",
       "      <th></th>\n",
       "      <th>Open</th>\n",
       "      <th>High</th>\n",
       "      <th>Low</th>\n",
       "      <th>Close</th>\n",
       "      <th>Adj Close</th>\n",
       "      <th>Volume</th>\n",
       "    </tr>\n",
       "    <tr>\n",
       "      <th>Date</th>\n",
       "      <th></th>\n",
       "      <th></th>\n",
       "      <th></th>\n",
       "      <th></th>\n",
       "      <th></th>\n",
       "      <th></th>\n",
       "    </tr>\n",
       "  </thead>\n",
       "  <tbody>\n",
       "    <tr>\n",
       "      <th>2014-12-31</th>\n",
       "      <td>20.400000</td>\n",
       "      <td>20.510000</td>\n",
       "      <td>19.990000</td>\n",
       "      <td>20.049999</td>\n",
       "      <td>19.459270</td>\n",
       "      <td>4157500</td>\n",
       "    </tr>\n",
       "    <tr>\n",
       "      <th>2015-01-02</th>\n",
       "      <td>20.129999</td>\n",
       "      <td>20.280001</td>\n",
       "      <td>19.809999</td>\n",
       "      <td>20.129999</td>\n",
       "      <td>19.536913</td>\n",
       "      <td>2842000</td>\n",
       "    </tr>\n",
       "    <tr>\n",
       "      <th>2015-01-05</th>\n",
       "      <td>20.129999</td>\n",
       "      <td>20.190001</td>\n",
       "      <td>19.700001</td>\n",
       "      <td>19.790001</td>\n",
       "      <td>19.206934</td>\n",
       "      <td>4948800</td>\n",
       "    </tr>\n",
       "    <tr>\n",
       "      <th>2015-01-06</th>\n",
       "      <td>19.820000</td>\n",
       "      <td>19.840000</td>\n",
       "      <td>19.170000</td>\n",
       "      <td>19.190001</td>\n",
       "      <td>18.624611</td>\n",
       "      <td>4944100</td>\n",
       "    </tr>\n",
       "    <tr>\n",
       "      <th>2015-01-07</th>\n",
       "      <td>19.330000</td>\n",
       "      <td>19.500000</td>\n",
       "      <td>19.080000</td>\n",
       "      <td>19.139999</td>\n",
       "      <td>18.576082</td>\n",
       "      <td>8045200</td>\n",
       "    </tr>\n",
       "    <tr>\n",
       "      <th>2015-01-08</th>\n",
       "      <td>19.360001</td>\n",
       "      <td>19.980000</td>\n",
       "      <td>19.350000</td>\n",
       "      <td>19.860001</td>\n",
       "      <td>19.274870</td>\n",
       "      <td>7094500</td>\n",
       "    </tr>\n",
       "    <tr>\n",
       "      <th>2015-01-09</th>\n",
       "      <td>19.930000</td>\n",
       "      <td>20.090000</td>\n",
       "      <td>19.660000</td>\n",
       "      <td>19.940001</td>\n",
       "      <td>19.352512</td>\n",
       "      <td>5238500</td>\n",
       "    </tr>\n",
       "    <tr>\n",
       "      <th>2015-01-12</th>\n",
       "      <td>19.990000</td>\n",
       "      <td>20.000000</td>\n",
       "      <td>19.510000</td>\n",
       "      <td>19.690001</td>\n",
       "      <td>19.109879</td>\n",
       "      <td>4768300</td>\n",
       "    </tr>\n",
       "    <tr>\n",
       "      <th>2015-01-13</th>\n",
       "      <td>19.840000</td>\n",
       "      <td>20.240000</td>\n",
       "      <td>19.520000</td>\n",
       "      <td>19.660000</td>\n",
       "      <td>19.080761</td>\n",
       "      <td>5909700</td>\n",
       "    </tr>\n",
       "    <tr>\n",
       "      <th>2015-01-14</th>\n",
       "      <td>19.450001</td>\n",
       "      <td>19.799999</td>\n",
       "      <td>19.400000</td>\n",
       "      <td>19.740000</td>\n",
       "      <td>19.158401</td>\n",
       "      <td>3881500</td>\n",
       "    </tr>\n",
       "    <tr>\n",
       "      <th>2015-01-15</th>\n",
       "      <td>19.879999</td>\n",
       "      <td>20.000000</td>\n",
       "      <td>19.590000</td>\n",
       "      <td>19.600000</td>\n",
       "      <td>19.022530</td>\n",
       "      <td>4723300</td>\n",
       "    </tr>\n",
       "    <tr>\n",
       "      <th>2015-01-16</th>\n",
       "      <td>19.570000</td>\n",
       "      <td>19.980000</td>\n",
       "      <td>19.510000</td>\n",
       "      <td>19.959999</td>\n",
       "      <td>19.371923</td>\n",
       "      <td>4537800</td>\n",
       "    </tr>\n",
       "  </tbody>\n",
       "</table>\n",
       "</div>"
      ],
      "text/plain": [
       "                 Open       High        Low      Close  Adj Close   Volume\n",
       "Date                                                                      \n",
       "2014-12-31  20.400000  20.510000  19.990000  20.049999  19.459270  4157500\n",
       "2015-01-02  20.129999  20.280001  19.809999  20.129999  19.536913  2842000\n",
       "2015-01-05  20.129999  20.190001  19.700001  19.790001  19.206934  4948800\n",
       "2015-01-06  19.820000  19.840000  19.170000  19.190001  18.624611  4944100\n",
       "2015-01-07  19.330000  19.500000  19.080000  19.139999  18.576082  8045200\n",
       "2015-01-08  19.360001  19.980000  19.350000  19.860001  19.274870  7094500\n",
       "2015-01-09  19.930000  20.090000  19.660000  19.940001  19.352512  5238500\n",
       "2015-01-12  19.990000  20.000000  19.510000  19.690001  19.109879  4768300\n",
       "2015-01-13  19.840000  20.240000  19.520000  19.660000  19.080761  5909700\n",
       "2015-01-14  19.450001  19.799999  19.400000  19.740000  19.158401  3881500\n",
       "2015-01-15  19.879999  20.000000  19.590000  19.600000  19.022530  4723300\n",
       "2015-01-16  19.570000  19.980000  19.510000  19.959999  19.371923  4537800"
      ]
     },
     "execution_count": 8,
     "metadata": {},
     "output_type": "execute_result"
    }
   ],
   "source": [
    "fb.head(12)"
   ]
  },
  {
   "cell_type": "code",
   "execution_count": 9,
   "metadata": {},
   "outputs": [],
   "source": [
    "# select all the price information of Facebook in year, Slicing\n",
    "\n",
    "fb_2015=fb.loc['2015-01-01':'2015-12-31']"
   ]
  },
  {
   "cell_type": "code",
   "execution_count": 10,
   "metadata": {},
   "outputs": [
    {
     "name": "stdout",
     "output_type": "stream",
     "text": [
      "Open         2.288000e+01\n",
      "High         2.311000e+01\n",
      "Low          2.273000e+01\n",
      "Close        2.297000e+01\n",
      "Adj Close    2.237908e+01\n",
      "Volume       5.923900e+06\n",
      "Name: 2015-03-16, dtype: float64\n"
     ]
    }
   ],
   "source": [
    "# Find all details of data 2015-01-02\n",
    "\n",
    "print(fb_2015.loc['2015-03-16'])"
   ]
  },
  {
   "cell_type": "code",
   "execution_count": 11,
   "metadata": {},
   "outputs": [
    {
     "name": "stdout",
     "output_type": "stream",
     "text": [
      "20.4\n"
     ]
    }
   ],
   "source": [
    "print(fb.iloc[0, 0])"
   ]
  },
  {
   "cell_type": "code",
   "execution_count": 12,
   "metadata": {},
   "outputs": [
    {
     "name": "stdout",
     "output_type": "stream",
     "text": [
      "227.0\n"
     ]
    }
   ],
   "source": [
    "# print the opening price of the last row\n",
    "print(fb.iloc[-1, 0])"
   ]
  },
  {
   "cell_type": "code",
   "execution_count": 13,
   "metadata": {},
   "outputs": [
    {
     "data": {
      "text/plain": [
       "<AxesSubplot:xlabel='Date'>"
      ]
     },
     "execution_count": 13,
     "metadata": {},
     "output_type": "execute_result"
    }
   ],
   "source": [
    "fb.loc['2016-01-01':'2016-12-31','Close'].plot()"
   ]
  },
  {
   "cell_type": "code",
   "execution_count": 14,
   "metadata": {},
   "outputs": [
    {
     "data": {
      "text/html": [
       "<div>\n",
       "<style scoped>\n",
       "    .dataframe tbody tr th:only-of-type {\n",
       "        vertical-align: middle;\n",
       "    }\n",
       "\n",
       "    .dataframe tbody tr th {\n",
       "        vertical-align: top;\n",
       "    }\n",
       "\n",
       "    .dataframe thead th {\n",
       "        text-align: right;\n",
       "    }\n",
       "</style>\n",
       "<table border=\"1\" class=\"dataframe\">\n",
       "  <thead>\n",
       "    <tr style=\"text-align: right;\">\n",
       "      <th></th>\n",
       "      <th>Open</th>\n",
       "      <th>High</th>\n",
       "      <th>Low</th>\n",
       "      <th>Close</th>\n",
       "      <th>Adj Close</th>\n",
       "      <th>Volume</th>\n",
       "    </tr>\n",
       "    <tr>\n",
       "      <th>Date</th>\n",
       "      <th></th>\n",
       "      <th></th>\n",
       "      <th></th>\n",
       "      <th></th>\n",
       "      <th></th>\n",
       "      <th></th>\n",
       "    </tr>\n",
       "  </thead>\n",
       "  <tbody>\n",
       "    <tr>\n",
       "      <th>2017-10-11</th>\n",
       "      <td>189.600006</td>\n",
       "      <td>191.000000</td>\n",
       "      <td>187.740005</td>\n",
       "      <td>190.940002</td>\n",
       "      <td>190.807434</td>\n",
       "      <td>13237700</td>\n",
       "    </tr>\n",
       "    <tr>\n",
       "      <th>2017-10-12</th>\n",
       "      <td>191.080002</td>\n",
       "      <td>193.089996</td>\n",
       "      <td>189.929993</td>\n",
       "      <td>191.029999</td>\n",
       "      <td>190.897369</td>\n",
       "      <td>13207300</td>\n",
       "    </tr>\n",
       "    <tr>\n",
       "      <th>2017-10-13</th>\n",
       "      <td>193.550003</td>\n",
       "      <td>195.000000</td>\n",
       "      <td>191.649994</td>\n",
       "      <td>194.589996</td>\n",
       "      <td>194.454895</td>\n",
       "      <td>15718200</td>\n",
       "    </tr>\n",
       "    <tr>\n",
       "      <th>2017-10-16</th>\n",
       "      <td>195.800003</td>\n",
       "      <td>198.050003</td>\n",
       "      <td>193.240005</td>\n",
       "      <td>197.929993</td>\n",
       "      <td>197.792572</td>\n",
       "      <td>14416000</td>\n",
       "    </tr>\n",
       "    <tr>\n",
       "      <th>2017-10-17</th>\n",
       "      <td>197.089996</td>\n",
       "      <td>198.899994</td>\n",
       "      <td>196.350006</td>\n",
       "      <td>197.750000</td>\n",
       "      <td>197.612701</td>\n",
       "      <td>11964900</td>\n",
       "    </tr>\n",
       "    <tr>\n",
       "      <th>...</th>\n",
       "      <td>...</td>\n",
       "      <td>...</td>\n",
       "      <td>...</td>\n",
       "      <td>...</td>\n",
       "      <td>...</td>\n",
       "      <td>...</td>\n",
       "    </tr>\n",
       "    <tr>\n",
       "      <th>2018-01-30</th>\n",
       "      <td>241.110001</td>\n",
       "      <td>246.419998</td>\n",
       "      <td>238.410004</td>\n",
       "      <td>242.720001</td>\n",
       "      <td>242.720001</td>\n",
       "      <td>14270800</td>\n",
       "    </tr>\n",
       "    <tr>\n",
       "      <th>2018-01-31</th>\n",
       "      <td>245.770004</td>\n",
       "      <td>249.270004</td>\n",
       "      <td>244.449997</td>\n",
       "      <td>245.800003</td>\n",
       "      <td>245.800003</td>\n",
       "      <td>11964400</td>\n",
       "    </tr>\n",
       "    <tr>\n",
       "      <th>2018-02-01</th>\n",
       "      <td>238.520004</td>\n",
       "      <td>246.899994</td>\n",
       "      <td>238.059998</td>\n",
       "      <td>240.500000</td>\n",
       "      <td>240.500000</td>\n",
       "      <td>12980600</td>\n",
       "    </tr>\n",
       "    <tr>\n",
       "      <th>2018-02-02</th>\n",
       "      <td>237.000000</td>\n",
       "      <td>237.970001</td>\n",
       "      <td>231.169998</td>\n",
       "      <td>233.520004</td>\n",
       "      <td>233.520004</td>\n",
       "      <td>17961600</td>\n",
       "    </tr>\n",
       "    <tr>\n",
       "      <th>2018-02-05</th>\n",
       "      <td>227.000000</td>\n",
       "      <td>233.229996</td>\n",
       "      <td>205.000000</td>\n",
       "      <td>213.699997</td>\n",
       "      <td>213.699997</td>\n",
       "      <td>28869000</td>\n",
       "    </tr>\n",
       "  </tbody>\n",
       "</table>\n",
       "<p>80 rows × 6 columns</p>\n",
       "</div>"
      ],
      "text/plain": [
       "                  Open        High         Low       Close   Adj Close  \\\n",
       "Date                                                                     \n",
       "2017-10-11  189.600006  191.000000  187.740005  190.940002  190.807434   \n",
       "2017-10-12  191.080002  193.089996  189.929993  191.029999  190.897369   \n",
       "2017-10-13  193.550003  195.000000  191.649994  194.589996  194.454895   \n",
       "2017-10-16  195.800003  198.050003  193.240005  197.929993  197.792572   \n",
       "2017-10-17  197.089996  198.899994  196.350006  197.750000  197.612701   \n",
       "...                ...         ...         ...         ...         ...   \n",
       "2018-01-30  241.110001  246.419998  238.410004  242.720001  242.720001   \n",
       "2018-01-31  245.770004  249.270004  244.449997  245.800003  245.800003   \n",
       "2018-02-01  238.520004  246.899994  238.059998  240.500000  240.500000   \n",
       "2018-02-02  237.000000  237.970001  231.169998  233.520004  233.520004   \n",
       "2018-02-05  227.000000  233.229996  205.000000  213.699997  213.699997   \n",
       "\n",
       "              Volume  \n",
       "Date                  \n",
       "2017-10-11  13237700  \n",
       "2017-10-12  13207300  \n",
       "2017-10-13  15718200  \n",
       "2017-10-16  14416000  \n",
       "2017-10-17  11964900  \n",
       "...              ...  \n",
       "2018-01-30  14270800  \n",
       "2018-01-31  11964400  \n",
       "2018-02-01  12980600  \n",
       "2018-02-02  17961600  \n",
       "2018-02-05  28869000  \n",
       "\n",
       "[80 rows x 6 columns]"
      ]
     },
     "execution_count": 14,
     "metadata": {},
     "output_type": "execute_result"
    }
   ],
   "source": [
    "# AFter row 700, discover all columns\n",
    "\n",
    "fb.iloc[700: , :]"
   ]
  },
  {
   "cell_type": "code",
   "execution_count": 15,
   "metadata": {},
   "outputs": [
    {
     "data": {
      "text/plain": [
       "<AxesSubplot:xlabel='Date'>"
      ]
     },
     "execution_count": 15,
     "metadata": {},
     "output_type": "execute_result"
    },
    {
     "data": {
      "image/png": "[encoded data removed]",
      "text/plain": [
       "<Figure size 720x576 with 1 Axes>"
      ]
     },
     "metadata": {
      "needs_background": "light"
     },
     "output_type": "display_data"
    }
   ],
   "source": [
    "import matplotlib.pyplot as plt\n",
    "%matplotlib inline\n",
    "plt.figure(figsize=(10, 8))\n",
    "\n",
    "\n",
    "# plot only the Close price of 2016 of Microsoft, 1 line \n",
    "fb.loc['2016-01-01':'2016-12-31','Close'].plot()"
   ]
  },
  {
   "cell_type": "code",
   "execution_count": 16,
   "metadata": {},
   "outputs": [
    {
     "data": {
      "text/plain": [
       "<AxesSubplot:xlabel='Date'>"
      ]
     },
     "execution_count": 16,
     "metadata": {},
     "output_type": "execute_result"
    },
    {
     "data": {
      "image/png": "[encoded data removed]",
      "text/plain": [
       "<Figure size 432x288 with 1 Axes>"
      ]
     },
     "metadata": {
      "needs_background": "light"
     },
     "output_type": "display_data"
    }
   ],
   "source": [
    "fb.loc['2015-01-01':'2015-12-31','Close'].plot()\n",
    "fb.loc['2016-01-01':'2016-12-31','Close'].plot()\n",
    "fb.loc['2017-01-01':'2017-12-31','Close'].plot()"
   ]
  },
  {
   "cell_type": "code",
   "execution_count": null,
   "metadata": {},
   "outputs": [],
   "source": []
  },
  {
   "cell_type": "code",
   "execution_count": null,
   "metadata": {},
   "outputs": [],
   "source": []
  },
  {
   "cell_type": "code",
   "execution_count": null,
   "metadata": {},
   "outputs": [],
   "source": []
  },
  {
   "cell_type": "code",
   "execution_count": null,
   "metadata": {},
   "outputs": [],
   "source": []
  },
  {
   "cell_type": "code",
   "execution_count": 22,
   "metadata": {},
   "outputs": [],
   "source": []
  },
  {
   "cell_type": "code",
   "execution_count": 23,
   "metadata": {},
   "outputs": [],
   "source": []
  },
  {
   "cell_type": "code",
   "execution_count": 24,
   "metadata": {},
   "outputs": [
    {
     "name": "stdout",
     "output_type": "stream",
     "text": [
      "-0.6799999999999997\n"
     ]
    }
   ],
   "source": []
  },
  {
   "cell_type": "code",
   "execution_count": 25,
   "metadata": {},
   "outputs": [],
   "source": []
  },
  {
   "cell_type": "code",
   "execution_count": 26,
   "metadata": {},
   "outputs": [],
   "source": []
  },
  {
   "cell_type": "code",
   "execution_count": 27,
   "metadata": {},
   "outputs": [
    {
     "name": "stdout",
     "output_type": "stream",
     "text": [
      "-0.014677314281143345\n"
     ]
    }
   ],
   "source": []
  },
  {
   "cell_type": "markdown",
   "metadata": {},
   "source": [
    "### Create a new column in the DataFrame using List Comprehension - Direction"
   ]
  },
  {
   "cell_type": "code",
   "execution_count": 30,
   "metadata": {},
   "outputs": [
    {
     "name": "stdout",
     "output_type": "stream",
     "text": [
      "Price difference on 2015-01-05 is -0.6799999999999997. direction is 0\n"
     ]
    }
   ],
   "source": [
    "# Run the following code to show the price difference on 2015-01-05\n",
    "print('Price difference on {} is {}. direction is {}'.format('2015-01-05', ms['PriceDiff'].loc['2015-01-05'], ms['Direction'].loc['2015-01-05']))"
   ]
  },
  {
   "cell_type": "code",
   "execution_count": 31,
   "metadata": {},
   "outputs": [],
   "source": [
    "### Create a new column in the DataFrame using Rolling Window calculation (.rolling()) - Moving average"
   ]
  },
  {
   "cell_type": "code",
   "execution_count": 37,
   "metadata": {},
   "outputs": [],
   "source": [
    "### 1. Munging the stock data and add two columns - MA10 and MA50"
   ]
  },
  {
   "cell_type": "code",
   "execution_count": 39,
   "metadata": {},
   "outputs": [],
   "source": [
    "## 2. Add \"Shares\" column to make decisions base on the strategy¶"
   ]
  },
  {
   "cell_type": "code",
   "execution_count": 42,
   "metadata": {},
   "outputs": [],
   "source": [
    "### 3. Use .cumsum() to display our model's performance if we follow the strategy"
   ]
  },
  {
   "cell_type": "code",
   "execution_count": null,
   "metadata": {},
   "outputs": [],
   "source": []
  }
 ],
 "metadata": {
  "kernelspec": {
   "display_name": "Python 3",
   "language": "python",
   "name": "python3"
  },
  "language_info": {
   "codemirror_mode": {
    "name": "ipython",
    "version": 3
   },
   "file_extension": ".py",
   "mimetype": "text/x-python",
   "name": "python",
   "nbconvert_exporter": "python",
   "pygments_lexer": "ipython3",
   "version": "3.7.0"
  }
 },
 "nbformat": 4,
 "nbformat_minor": 2
}
